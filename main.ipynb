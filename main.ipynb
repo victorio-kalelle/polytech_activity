{
 "cells": [
  {
   "cell_type": "markdown",
   "id": "ff270203",
   "metadata": {},
   "source": [
    "# Requirements Analysis\n",
    "- Use raw_mental_health.csv in answering the activity.\n",
    "- Rename all columns using snake_case format.\n",
    "- Clean the dataset by replacing missing values with others.\n",
    "- Add a dummy column with a NaN value, then drop it.\n",
    "- Export the cleaned dataset as final_mental_health.csv\n",
    "- Identify how many individuals sought mental health treatment, grouped by gender, and visualize it using a bar graph.\n",
    "- Provide a short insight based on the graph.\n"
   ]
  },
  {
   "cell_type": "code",
   "execution_count": null,
   "id": "b2165607",
   "metadata": {},
   "outputs": [],
   "source": [
    "import pandas as pd\n",
    "import numpy as np\n",
    "import matplotlib.pyplot as plt"
   ]
  }
 ],
 "metadata": {
  "kernelspec": {
   "display_name": ".venv",
   "language": "python",
   "name": "python3"
  },
  "language_info": {
   "name": "python",
   "version": "3.12.6"
  }
 },
 "nbformat": 4,
 "nbformat_minor": 5
}
